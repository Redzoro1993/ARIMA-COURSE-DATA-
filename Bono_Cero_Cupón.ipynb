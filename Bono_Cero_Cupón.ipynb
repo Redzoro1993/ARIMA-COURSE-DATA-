{
  "nbformat": 4,
  "nbformat_minor": 0,
  "metadata": {
    "colab": {
      "name": "Bono Cero Cupón.ipynb",
      "private_outputs": true,
      "provenance": [],
      "authorship_tag": "ABX9TyO1yLNk+91rxpSHSgLHunsm",
      "include_colab_link": true
    },
    "kernelspec": {
      "name": "python3",
      "display_name": "Python 3"
    },
    "language_info": {
      "name": "python"
    }
  },
  "cells": [
    {
      "cell_type": "markdown",
      "metadata": {
        "id": "view-in-github",
        "colab_type": "text"
      },
      "source": [
        "<a href=\"https://colab.research.google.com/github/Redzoro1993/ARIMA-COURSE-DATA-/blob/master/Bono_Cero_Cup%C3%B3n.ipynb\" target=\"_parent\"><img src=\"https://colab.research.google.com/assets/colab-badge.svg\" alt=\"Open In Colab\"/></a>"
      ]
    },
    {
      "cell_type": "markdown",
      "metadata": {
        "id": "ul5DrwArNw4O"
      },
      "source": [
        "# Bonos cero cupón\n",
        "Un **bono cupón cero** es aquel en el cual no existe pago periódico de intereses durante la vida del bono y se comercializa con un descuento bastante inferior a su valor nominal. Un bono cero cupón se valora de la siguiente forma: \n",
        "\n",
        "\\begin{equation}\n",
        "{Precio \\ de \\ un \\ bono \\ cero \\ cupón} = \\frac{Valor \\ Facial}{(1 + y)^t}\n",
        "\\end{equation}\n",
        "\n",
        "donde $y$ es la tasa del bono o rendimiento anual compuesto y $t$ es el tiempo que queda hasta el vencimiento del bono."
      ]
    },
    {
      "cell_type": "code",
      "metadata": {
        "id": "Wopxg1C0L8Vd"
      },
      "source": [
        "def bono_cero_cupo(vf, y, t):\n",
        "  \"\"\"\n",
        "  Valora un bono cero cupón\n",
        "  \n",
        "  Parametros\n",
        "  ----------\n",
        "  vf : El valor facial es el valor asignado a un instrumento de pago durante \n",
        "  la creación y emisión de este por los órganos pertinentes. \n",
        "\n",
        "  y : Es la tasa del bono o el rendimiento anual compuesto.\n",
        "\n",
        "  t : Es el tiempo que hasta la fecha de maduración del bono, en años\n",
        "\n",
        "  Retorna\n",
        "  ----------\n",
        "  El precio o valor del cero cupón\n",
        "  \n",
        "  \"\"\"\n",
        "  return vf / (1 + y) ** t"
      ],
      "execution_count": null,
      "outputs": []
    },
    {
      "cell_type": "code",
      "metadata": {
        "id": "VGjw4QimXFhR"
      },
      "source": [
        "bono_cero_cupo(100, 0.05, 5)"
      ],
      "execution_count": null,
      "outputs": []
    },
    {
      "cell_type": "code",
      "metadata": {
        "id": "1c3bQSnTYp7a"
      },
      "source": [
        "from ipywidgets import interact, interactive\n",
        "import ipywidgets as widgets\n",
        "import numpy as np\n",
        "import matplotlib.pyplot as plt\n",
        "import matplotlib as mpl\n",
        "%matplotlib inline"
      ],
      "execution_count": null,
      "outputs": []
    },
    {
      "cell_type": "code",
      "metadata": {
        "id": "2DSUtlhZZnCI"
      },
      "source": [
        "interact(\n",
        "    bono_cero_cupo,\n",
        "    y = widgets.FloatSlider(min = 0, max = 1, step = 0.01, value = 0.05),\n",
        "    vf = widgets.IntSlider(min = 0, max = 1000, step=100, value = 100),\n",
        "    t = widgets.IntSlider(min = 0, max = 30, step = 1, value = 5))"
      ],
      "execution_count": null,
      "outputs": []
    }
  ]
}