{
  "nbformat": 4,
  "nbformat_minor": 0,
  "metadata": {
    "colab": {
      "name": "Punto1RF.ipynb",
      "provenance": [],
      "collapsed_sections": [],
      "include_colab_link": true
    },
    "kernelspec": {
      "display_name": "Python 3",
      "name": "python3"
    },
    "language_info": {
      "name": "python"
    }
  },
  "cells": [
    {
      "cell_type": "markdown",
      "metadata": {
        "id": "view-in-github",
        "colab_type": "text"
      },
      "source": [
        "<a href=\"https://colab.research.google.com/github/Redzoro1993/ARIMA-COURSE-DATA-/blob/master/Punto1RF.ipynb\" target=\"_parent\"><img src=\"https://colab.research.google.com/assets/colab-badge.svg\" alt=\"Open In Colab\"/></a>"
      ]
    },
    {
      "cell_type": "code",
      "metadata": {
        "id": "-CaJbaYq4Wz7"
      },
      "source": [
        "import pandas as pd\n",
        "import numpy as np\n",
        "import math\n",
        "import matplotlib.pyplot as plt\n",
        "from math import *\n",
        "import seaborn as sns"
      ],
      "execution_count": 69,
      "outputs": []
    },
    {
      "cell_type": "markdown",
      "metadata": {
        "id": "Uz3oFQmr59Sj"
      },
      "source": [
        "Información de la curva cero cupón de mercado en tiempo continuo asociada a la tasa R"
      ]
    },
    {
      "cell_type": "code",
      "metadata": {
        "colab": {
          "resources": {
            "http://localhost:8080/nbextensions/google.colab/files.js": {
              "data": "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",
              "ok": true,
              "headers": [
                [
                  "content-type",
                  "application/javascript"
                ]
              ],
              "status": 200,
              "status_text": ""
            }
          },
          "base_uri": "https://localhost:8080/",
          "height": 106
        },
        "id": "rlUITizR23qt",
        "outputId": "7f3059b9-1168-46fd-a437-490e6a2752db"
      },
      "source": [
        "from google.colab import files\n",
        "files.upload()"
      ],
      "execution_count": 70,
      "outputs": [
        {
          "output_type": "display_data",
          "data": {
            "text/html": [
              "\n",
              "     <input type=\"file\" id=\"files-65107498-72ad-41d5-ada2-19628872a010\" name=\"files[]\" multiple disabled\n",
              "        style=\"border:none\" />\n",
              "     <output id=\"result-65107498-72ad-41d5-ada2-19628872a010\">\n",
              "      Upload widget is only available when the cell has been executed in the\n",
              "      current browser session. Please rerun this cell to enable.\n",
              "      </output>\n",
              "      <script src=\"/nbextensions/google.colab/files.js\"></script> "
            ],
            "text/plain": [
              "<IPython.core.display.HTML object>"
            ]
          },
          "metadata": {
            "tags": []
          }
        },
        {
          "output_type": "stream",
          "text": [
            "Saving curva_punto1.txt to curva_punto1 (3).txt\n"
          ],
          "name": "stdout"
        },
        {
          "output_type": "execute_result",
          "data": {
            "text/plain": [
              "{'curva_punto1.txt': b'Days\\tRate\\r\\n30\\t0.01367\\r\\n60\\t0.0146\\r\\n90\\t0.0155\\r\\n120\\t0.01578\\r\\n150\\t0.016\\r\\n180\\t0.0164\\r\\n210\\t0.0172\\r\\n240\\t0.1988\\r\\n270\\t0.021507\\r\\n300\\t0.022228\\r\\n330\\t0.0256\\r\\n360\\t0.029516\\r\\n390\\t0.031\\r\\n420\\t0.035656\\r\\n450\\t0.037506\\r\\n480\\t0.03899\\r\\n510\\t0.04298\\r\\n540\\t0.045516\\r\\n570\\t0.0465\\r\\n600\\t0.04801\\r\\n630\\t0.05079\\r\\n660\\t0.05203\\r\\n690\\t0.0557\\r\\n720\\t0.057\\r\\n750\\t0.05771\\r\\n780\\t0.05807\\r\\n810\\t0.058882\\r\\n840\\t0.059517\\r\\n870\\t0.059553\\r\\n900\\t0.060063\\r\\n930\\t0.060775\\r\\n960\\t0.061419\\r\\n990\\t0.061973\\r\\n1020\\t0.062475\\r\\n1050\\t0.063317\\r\\n1080\\t0.063858'}"
            ]
          },
          "metadata": {
            "tags": []
          },
          "execution_count": 70
        }
      ]
    },
    {
      "cell_type": "code",
      "metadata": {
        "id": "KWTpF72_4a87"
      },
      "source": [
        "mkt_rates = pd.read_csv(\"curva_punto1.txt\", sep = \"\\t\")\n",
        "mkt_rates[\"Time\"] = mkt_rates[\"Days\"].astype(float) / 360\n",
        "P_mkt = pd.concat([mkt_rates['Time'], np.exp(-mkt_rates.Rate * mkt_rates.Time)],axis = 1)\n",
        "mkt_rates[\"Time\"] = mkt_rates[\"Time\"].round(2)\n",
        "P_mkt[\"Time\"] = mkt_rates[\"Time\"].round(2)\n",
        "P_mkt.columns = [\"Time\", \"DF\"]"
      ],
      "execution_count": 50,
      "outputs": []
    },
    {
      "cell_type": "code",
      "metadata": {
        "id": "YZ50fJ7XQEml"
      },
      "source": [
        "mkt_rates"
      ],
      "execution_count": null,
      "outputs": []
    },
    {
      "cell_type": "code",
      "metadata": {
        "id": "6ImwogJJf27v"
      },
      "source": [
        "P_mkt = pd.concat([mkt_rates[\"Time\"],np.exp(-mkt_rates.Rate * mkt_rates.Time)],axis = 1)\n",
        "P_mkt.columns = [\"Time\", \"DF\"]"
      ],
      "execution_count": 52,
      "outputs": []
    },
    {
      "cell_type": "code",
      "metadata": {
        "id": "3wV8aQSPf7VI"
      },
      "source": [
        "sigma = 0.15\n",
        "k = 0.01\n",
        "delta_t = 0.25\n",
        "time_periods = 9\n",
        "delta_X = sigma * np.sqrt(3 * delta_t) "
      ],
      "execution_count": 53,
      "outputs": []
    },
    {
      "cell_type": "markdown",
      "metadata": {
        "id": "X7bPPsjPf_HK"
      },
      "source": [
        "Setup inicial"
      ]
    },
    {
      "cell_type": "markdown",
      "metadata": {
        "id": "K0y5AiiZgDgO"
      },
      "source": [
        "Arbol X"
      ]
    },
    {
      "cell_type": "code",
      "metadata": {
        "id": "f3jdVV-qLX_c"
      },
      "source": [
        "j_periods = time_periods * 2 - 1\n",
        "j_max = math.ceil(0.184/(k*delta_t))\n",
        "X0 = 0"
      ],
      "execution_count": 54,
      "outputs": []
    },
    {
      "cell_type": "code",
      "metadata": {
        "id": "xEhid6vegGje"
      },
      "source": [
        "X_tree = pd.DataFrame(np.nan, index = range(0,j_periods), columns = range(0, time_periods))"
      ],
      "execution_count": 55,
      "outputs": []
    },
    {
      "cell_type": "code",
      "metadata": {
        "id": "FmP8S8DLtfZs"
      },
      "source": [
        "for i in range(0, time_periods):\n",
        "    index_X_tree = X_tree.loc[(time_periods-i-1):(time_periods+i-1),i].index \n",
        "    X_tree.loc[(time_periods-i-1):(time_periods+i-1),i] = X0 + delta_X  * (pd.DataFrame(pd.Series(range(i,-i-1,-1))).set_index(index_X_tree))[0]   "
      ],
      "execution_count": 56,
      "outputs": []
    },
    {
      "cell_type": "code",
      "metadata": {
        "id": "_mJJGoQAMUQh"
      },
      "source": [
        "def branch_a(k, delta_t, j):\n",
        "    p_u = 1/6 + 1/2*(k**2 * j**2 * delta_t**2 - k * j * delta_t)\n",
        "    p_m = 2/3 - k**2 * j**2 * delta_t**2\n",
        "    p_d = 1/6 + 1/2*(k**2 * j**2 * delta_t**2 + k * j * delta_t)\n",
        "    data = [p_u, p_m, p_d]\n",
        "    probability = pd.DataFrame(data, index = ['p_u', 'p_m', 'p_d'])\n",
        "    return(probability)\n",
        "\n",
        "def branch_b(k, delta_t, j):\n",
        "    p_u = 1/6 + 1/2*(k**2 * j**2 * delta_t**2 + k * j * delta_t)\n",
        "    p_m = -1/3 - k**2 * j**2 * delta_t**2 - 2 * k * j * delta_t\n",
        "    p_d = 7/6 + 1/2 * (k**2 * j**2 * delta_t**2 + 3 * k * j * delta_t)\n",
        "    data = [p_u, p_m, p_d]\n",
        "    probability = pd.DataFrame(data, index = ['p_u', 'p_m', 'p_d'])\n",
        "    return(probability)\n",
        "    \n",
        "def branch_c (k, delta_t, j):\n",
        "    p_u = 7/6 + 1/2 * (k**2 * j**2 * delta_t**2 - 3 * k * j * delta_t)\n",
        "    p_m = -1/3 - k**2 * j**2 * delta_t**2 + 2 * k * j * delta_t\n",
        "    p_d = 1/6 + 1/2 * (k**2 * j**2 * delta_t**2 - k * j * delta_t)\n",
        "    data = [p_u, p_m, p_d]\n",
        "    probability = pd.DataFrame(data, index = ['p_u', 'p_m', 'p_d'])\n",
        "    return(probability)\n",
        "    \n",
        "def prob(k, delta_t, j, j_max):\n",
        "    if j < j_max and j > - j_max :\n",
        "        probability = branch_a(k, delta_t, j)\n",
        "    elif j == -j_max:\n",
        "        probability = branch_b(k, delta_t, j)\n",
        "    else:\n",
        "        probability = branch_c(k, delta_t, j)\n",
        "    return(probability)"
      ],
      "execution_count": 58,
      "outputs": []
    },
    {
      "cell_type": "code",
      "metadata": {
        "id": "nE4v0laUczBN",
        "colab": {
          "base_uri": "https://localhost:8080/"
        },
        "outputId": "b3d91a6f-a9fd-4cf9-a0be-df144d2ae736"
      },
      "source": [
        "j = X_tree/delta_X \n",
        "Q = pd.DataFrame(np.nan, index = range(0,j_periods), columns = range(0, time_periods))\n",
        "Q.loc[time_periods - 1,0] = 1\n",
        "alpha = pd.Series([]) \n",
        "alpha[0] = float(mkt_rates['Rate'][np.where(mkt_rates['Time'] == (delta_t * (0 + 1)))[0]])\n",
        "DF = pd.Series([])"
      ],
      "execution_count": 59,
      "outputs": [
        {
          "output_type": "stream",
          "text": [
            "/usr/local/lib/python3.7/dist-packages/ipykernel_launcher.py:4: DeprecationWarning: The default dtype for empty Series will be 'object' instead of 'float64' in a future version. Specify a dtype explicitly to silence this warning.\n",
            "  after removing the cwd from sys.path.\n",
            "/usr/local/lib/python3.7/dist-packages/ipykernel_launcher.py:6: DeprecationWarning: The default dtype for empty Series will be 'object' instead of 'float64' in a future version. Specify a dtype explicitly to silence this warning.\n",
            "  \n"
          ],
          "name": "stderr"
        }
      ]
    },
    {
      "cell_type": "code",
      "metadata": {
        "id": "LVIqjWEeUIZH"
      },
      "source": [
        "for i in range(1,time_periods):\n",
        "    for h in range(0, len(j.index)):\n",
        "        if np.isnan(j.loc[h,i]): \n",
        "            continue\n",
        "        else:\n",
        "            DF[i] = float(P_mkt['DF'][np.where(P_mkt['Time'] == (delta_t * (i + 1)))[0]])\n",
        "            if i == time_periods - 1 and h == len(j.index) - 1:\n",
        "                Q_1 = Q.loc[h-1,i-1] * prob(k,delta_t,j.loc[h-1,i-1],j_max).loc[\"p_d\",0] * np.exp((-(alpha[i-1] + j.loc[h-1,i-1] * delta_X))*delta_t)\n",
        "                Q_2 = 0\n",
        "                Q_3 = 0\n",
        "            elif i == time_periods - 1 and h == 0:\n",
        "                Q_1 = 0\n",
        "                Q_2 = 0\n",
        "                Q_3 = Q.loc[h+1,i-1] * prob(k,delta_t,j.loc[h+1,i-1],j_max).loc[\"p_u\",0] * np.exp((-(alpha[i-1] + j.loc[h+1,i-1] * delta_X))*delta_t)\n",
        "            else:\n",
        "                Q_1 = Q.loc[h-1,i-1] * prob(k,delta_t,j.loc[h-1,i-1],j_max).loc[\"p_d\",0] * np.exp((-(alpha[i-1] + j.loc[h-1,i-1] * delta_X))*delta_t)\n",
        "                Q_2 = Q.loc[h,i-1] * prob(k,delta_t,j.loc[h,i-1],j_max).loc[\"p_m\",0] * np.exp((-(alpha[i-1] + j.loc[h,i-1] * delta_X))*delta_t)\n",
        "                Q_3 = Q.loc[h+1,i-1] * prob(k,delta_t,j.loc[h+1,i-1],j_max).loc[\"p_u\",0] * np.exp((-(alpha[i-1] + j.loc[h+1,i-1] * delta_X))*delta_t)\n",
        "            Q.loc[h,i] = np.nansum([Q_1, Q_2, Q_3])\n",
        "        alpha[i] = (np.log(np.nansum(Q.loc[:,i] * np.exp(-X_tree.loc[:,i] * delta_t))) - np.log(DF[i]))/delta_t   "
      ],
      "execution_count": 60,
      "outputs": []
    },
    {
      "cell_type": "code",
      "metadata": {
        "colab": {
          "base_uri": "https://localhost:8080/",
          "height": 295
        },
        "id": "ik7Q5awmlJ9-",
        "outputId": "c577cb1d-666a-4381-a86f-62b49404111c"
      },
      "source": [
        "R_tree = pd.DataFrame(np.nan, index = range(0,j_periods), columns = range(0, time_periods))\n",
        "for i in range(0, time_periods):\n",
        "    R_tree.loc[(time_periods-i-1):(time_periods+i-1),i] = alpha[i]+X_tree.loc[(time_periods-i-1):(time_periods+i-1),i]\n",
        "    \n",
        "R_results = pd.DataFrame({'RATE':[], 'TIME':[]})\n",
        "for i in range(0, time_periods):\n",
        "    time = pd.Series([i] *  len(R_tree.loc[:,i]))\n",
        "    R_result = pd.concat([R_tree.loc[:,i],time], axis =1)\n",
        "    R_result.columns = [\"RATE\", \"TIME\"]\n",
        "    R_results = pd.concat([R_results,R_result])\n",
        "\n",
        "R_results = R_results.dropna()\n",
        "R_results = R_results.reset_index(drop = True)\n",
        "\n",
        "plt.scatter(x = R_results['TIME'], y = R_results['RATE'])\n",
        "plt.xlabel('Tiempo')\n",
        "plt.ylabel('Tasa-Nodo')\n",
        "plt.title('Arbol Trinomial')\n",
        "plt.show()"
      ],
      "execution_count": 61,
      "outputs": [
        {
          "output_type": "display_data",
          "data": {
            "image/png": "[encoded data removed]",
            "text/plain": [
              "<Figure size 432x288 with 1 Axes>"
            ]
          },
          "metadata": {
            "tags": [],
            "needs_background": "light"
          }
        }
      ]
    },
    {
      "cell_type": "code",
      "metadata": {
        "colab": {
          "base_uri": "https://localhost:8080/",
          "height": 652
        },
        "id": "_2h5RHdowJ6e",
        "outputId": "3cfe4488-ea9c-42f5-fc34-d4ed2e90b379"
      },
      "source": [
        "sns.set_style(\"darkgrid\")\n",
        "plt.figure(figsize=(13, 10))\n",
        "plt.xlabel('Tiempo',fontsize = 18)\n",
        "plt.ylabel('Tasa-Nodo',fontsize = 18)\n",
        "plt.title('Arbol Trinomial',fontsize = 22)\n",
        "sns.scatterplot(x = R_results['TIME'], y = R_results['RATE'], color = \"DarkBlue\" ,alpha = 1 ,palette=\"deep\")"
      ],
      "execution_count": 100,
      "outputs": [
        {
          "output_type": "execute_result",
          "data": {
            "text/plain": [
              "<matplotlib.axes._subplots.AxesSubplot at 0x7f97881759d0>"
            ]
          },
          "metadata": {
            "tags": []
          },
          "execution_count": 100
        },
        {
          "output_type": "display_data",
          "data": {
            "image/png": "[encoded data removed]",
            "text/plain": [
              "<Figure size 936x720 with 1 Axes>"
            ]
          },
          "metadata": {
            "tags": []
          }
        }
      ]
    },
    {
      "cell_type": "code",
      "metadata": {
        "id": "6Fn5yan7PImv"
      },
      "source": [
        "def Capplet_Val_ite(DataFrame,Strike = 0.03):\n",
        "    Row_num = DataFrame.shape[0]-1\n",
        "    Col_num = DataFrame.shape[1]-1\n",
        "    Desc_mat = np.zeros(shape=(Row_num-1,Col_num))\n",
        "    \n",
        "    for j in range(Col_num,0,-1):\n",
        "                      \n",
        "        for i in range(1,Row_num):\n",
        "            Tasa_Nodo = DataFrame.iloc[i,j-1]\n",
        "            Desc_mat[i-1,j-1] = 0.5*(np.exp(-0.5*Tasa_Nodo)*(max(DataFrame.iloc[i-1,j]-Strike,0)*0.5+max(DataFrame.iloc[i,j]-Strike,0)*0.25+max(DataFrame.iloc[i+1,j]-Strike,0)*0.25)+max(Tasa_Nodo-Strike,0))\n",
        "    return Desc_mat\n",
        "\n",
        "Arbol_Caplet = Capplet_Val_ite(R_tree)"
      ],
      "execution_count": 64,
      "outputs": []
    },
    {
      "cell_type": "code",
      "metadata": {
        "id": "1Ws3-Ky3PKfB"
      },
      "source": [
        "Sol = pd.DataFrame(Arbol_Caplet)"
      ],
      "execution_count": 65,
      "outputs": []
    },
    {
      "cell_type": "code",
      "metadata": {
        "id": "91nh_0qXVTW1"
      },
      "source": [
        "Nocional = 2000"
      ],
      "execution_count": 66,
      "outputs": []
    },
    {
      "cell_type": "code",
      "metadata": {
        "id": "kU1BwIAeVBCJ"
      },
      "source": [
        "Valoración_Caplet = (solR[0].dropna())* Nocional "
      ],
      "execution_count": 67,
      "outputs": []
    },
    {
      "cell_type": "code",
      "metadata": {
        "colab": {
          "base_uri": "https://localhost:8080/"
        },
        "id": "nV4qRUoDVRXm",
        "outputId": "c19871bd-f819-442a-9b5f-346db27bbafc"
      },
      "source": [
        "Valoración_Caplet"
      ],
      "execution_count": 68,
      "outputs": [
        {
          "output_type": "execute_result",
          "data": {
            "text/plain": [
              "7    58.498344\n",
              "Name: 0, dtype: float64"
            ]
          },
          "metadata": {
            "tags": []
          },
          "execution_count": 68
        }
      ]
    }
  ]
}